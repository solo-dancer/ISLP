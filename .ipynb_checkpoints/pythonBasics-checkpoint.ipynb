{
 "cells": [
  {
   "cell_type": "markdown",
   "id": "f203716e-a316-44f1-bc66-7157bbe49042",
   "metadata": {},
   "source": [
    "#### This script is just a refresher on python basics"
   ]
  },
  {
   "cell_type": "code",
   "execution_count": 1,
   "id": "847cc631-1a23-493c-ac1b-04f1445aaa0a",
   "metadata": {},
   "outputs": [
    {
     "name": "stdout",
     "output_type": "stream",
     "text": [
      "Requirement already satisfied: numpy in /home/solodancer/venv/lib/python3.11/site-packages (2.2.1)\n",
      "Requirement already satisfied: pandas in /home/solodancer/venv/lib/python3.11/site-packages (2.2.3)\n",
      "Requirement already satisfied: python-dateutil>=2.8.2 in /home/solodancer/venv/lib/python3.11/site-packages (from pandas) (2.9.0.post0)\n",
      "Requirement already satisfied: pytz>=2020.1 in /home/solodancer/venv/lib/python3.11/site-packages (from pandas) (2024.2)\n",
      "Requirement already satisfied: tzdata>=2022.7 in /home/solodancer/venv/lib/python3.11/site-packages (from pandas) (2024.2)\n",
      "Requirement already satisfied: six>=1.5 in /home/solodancer/venv/lib/python3.11/site-packages (from python-dateutil>=2.8.2->pandas) (1.17.0)\n"
     ]
    }
   ],
   "source": [
    "!pip install numpy pandas\n",
    "import numpy as np\n",
    "import pandas as pd\n",
    "import sys"
   ]
  },
  {
   "cell_type": "code",
   "execution_count": 2,
   "id": "c84568c6-8f86-4c78-8136-11237dde0762",
   "metadata": {},
   "outputs": [
    {
     "data": {
      "text/plain": [
       "'Sum of 3+4 = 7'"
      ]
     },
     "metadata": {},
     "output_type": "display_data"
    },
    {
     "data": {
      "text/plain": [
       "'Multiply 3*4 = 12'"
      ]
     },
     "metadata": {},
     "output_type": "display_data"
    },
    {
     "data": {
      "text/plain": [
       "'Remainder and quotient of 19/5 = 4 3'"
      ]
     },
     "metadata": {},
     "output_type": "display_data"
    },
    {
     "data": {
      "text/plain": [
       "'jointStrings'"
      ]
     },
     "metadata": {},
     "output_type": "display_data"
    }
   ],
   "source": [
    "#### python basic operations\n",
    "display(\"Sum of 3+4 = \"+ str(3+4))\n",
    "display(\"Multiply 3*4 = \"+str(3*4))\n",
    "display(\"Remainder and quotient of 19/5 = \" + str(19%5) +\" \"+ str(19//5))\n",
    "display(\"joint\"+\"Strings\")"
   ]
  },
  {
   "cell_type": "markdown",
   "id": "fc89bc65-2691-473b-88e5-e145765f6c23",
   "metadata": {},
   "source": [
    "| Feature | List | Set | Tuple|\n",
    "| :- | :- | :-|:- |\n",
    "| Memory | More | Most|Least|\n",
    "| order | ordered | unordered: keep unique elements only by hash code|ordered|\n",
    "| Mutability-add element | append mutate original list but + create a new | same as list|Immutable, + create a new|\n",
    "| Mutability-alter element | allows | cannot be changed or replaced|cannot be changed or replaced|\n",
    "| Usage | store collections of homogeneous items. | remove duplicates, intersection/union|dictionary, hint not to change|\n",
    "| Access speed | slow.O(n) | hash value:membership test/remove fast O(1)|faster o(1)|"
   ]
  },
  {
   "cell_type": "code",
   "execution_count": 3,
   "id": "af5d87aa-e912-40dd-b624-eb3fd119374d",
   "metadata": {},
   "outputs": [
    {
     "data": {
      "text/plain": [
       "\"data types of a_list & a_tuple : <class 'list'><class 'tuple'><class 'set'>\""
      ]
     },
     "metadata": {},
     "output_type": "display_data"
    },
    {
     "data": {
      "text/plain": [
       "'Tuple takes less size than list or set:64 72 200'"
      ]
     },
     "metadata": {},
     "output_type": "display_data"
    }
   ],
   "source": [
    "###List Tuple Set  \n",
    "a_list,a_tuple,a_set = [2,3,4] , (2,3,4),set([2,3,4])\n",
    "display('data types of a_list & a_tuple : '+str(type(a_list))+str(type(a_tuple))+str(type(a_set)))\n",
    "display('Tuple takes less size than list or set:'+str(sys.getsizeof(a_tuple))+\" \"+str(a_list.__sizeof__())+\" \"+str(a_set.__sizeof__()))"
   ]
  },
  {
   "cell_type": "code",
   "execution_count": 4,
   "id": "b7d5554e-c829-4359-b8f3-a0c59af0dfc2",
   "metadata": {},
   "outputs": [
    {
     "data": {
      "text/plain": [
       "'modified list allows + , append, remove = [2, 3, 8, 5, 6]'"
      ]
     },
     "metadata": {},
     "output_type": "display_data"
    }
   ],
   "source": [
    "a_list = a_list+[5,6]\n",
    "a_list[2]=8\n",
    "a_list.append(100)\n",
    "a_list.remove(100)\n",
    "display(\"modified list allows + , append, remove = \"+ str(a_list))"
   ]
  },
  {
   "cell_type": "code",
   "execution_count": 5,
   "id": "1a1dbd74-d9cd-4ea2-8e20-9fda6b8852a4",
   "metadata": {},
   "outputs": [
    {
     "data": {
      "text/plain": [
       "'modified tuple allows + , no append, no remove = (2, 3, 4, 100, 200)'"
      ]
     },
     "metadata": {},
     "output_type": "display_data"
    },
    {
     "ename": "TypeError",
     "evalue": "'tuple' object does not support item assignment",
     "output_type": "error",
     "traceback": [
      "\u001b[0;31m---------------------------------------------------------------------------\u001b[0m",
      "\u001b[0;31mTypeError\u001b[0m                                 Traceback (most recent call last)",
      "Cell \u001b[0;32mIn[5], line 3\u001b[0m\n\u001b[1;32m      1\u001b[0m a_tuple \u001b[38;5;241m=\u001b[39m a_tuple \u001b[38;5;241m+\u001b[39m (\u001b[38;5;241m100\u001b[39m,\u001b[38;5;241m200\u001b[39m)\n\u001b[1;32m      2\u001b[0m display(\u001b[38;5;124m\"\u001b[39m\u001b[38;5;124mmodified tuple allows + , no append, no remove = \u001b[39m\u001b[38;5;124m\"\u001b[39m\u001b[38;5;241m+\u001b[39m \u001b[38;5;28mstr\u001b[39m(a_tuple))\n\u001b[0;32m----> 3\u001b[0m \u001b[43ma_tuple\u001b[49m\u001b[43m[\u001b[49m\u001b[38;5;241;43m2\u001b[39;49m\u001b[43m]\u001b[49m \u001b[38;5;241m=\u001b[39m \u001b[38;5;241m200\u001b[39m\n",
      "\u001b[0;31mTypeError\u001b[0m: 'tuple' object does not support item assignment"
     ]
    }
   ],
   "source": [
    "a_tuple = a_tuple + (100,200)\n",
    "display(\"modified tuple allows + , no append, no remove = \"+ str(a_tuple))\n",
    "a_tuple[2] = 200"
   ]
  },
  {
   "cell_type": "code",
   "execution_count": 13,
   "id": "a14c506e-581c-4319-9d9a-e40a861e1555",
   "metadata": {},
   "outputs": [
    {
     "data": {
      "text/plain": [
       "'modified set allows union/update , remove, but no append or alter= {2, 3, 100, 4}'"
      ]
     },
     "metadata": {},
     "output_type": "display_data"
    },
    {
     "ename": "TypeError",
     "evalue": "'set' object does not support item assignment",
     "output_type": "error",
     "traceback": [
      "\u001b[0;31m---------------------------------------------------------------------------\u001b[0m",
      "\u001b[0;31mTypeError\u001b[0m                                 Traceback (most recent call last)",
      "Cell \u001b[0;32mIn[13], line 6\u001b[0m\n\u001b[1;32m      4\u001b[0m a_set\u001b[38;5;241m.\u001b[39mremove(\u001b[38;5;241m200\u001b[39m)\n\u001b[1;32m      5\u001b[0m display(\u001b[38;5;124m\"\u001b[39m\u001b[38;5;124mmodified set allows union/update , remove, but no append or alter= \u001b[39m\u001b[38;5;124m\"\u001b[39m\u001b[38;5;241m+\u001b[39m \u001b[38;5;28mstr\u001b[39m(a_set))\n\u001b[0;32m----> 6\u001b[0m \u001b[43ma_set\u001b[49m\u001b[43m[\u001b[49m\u001b[38;5;241;43m2\u001b[39;49m\u001b[43m]\u001b[49m \u001b[38;5;241m=\u001b[39m \u001b[38;5;241m200\u001b[39m\n",
      "\u001b[0;31mTypeError\u001b[0m: 'set' object does not support item assignment"
     ]
    }
   ],
   "source": [
    "a_set = set([2,3,4])\n",
    "a_set = a_set.union([100,200,200])\n",
    "# a_set = a_set.update([900,800,800])\n",
    "a_set.remove(200)\n",
    "display(\"modified set allows union/update , remove, but no append or alter= \"+ str(a_set))\n",
    "a_set[2] = 200"
   ]
  },
  {
   "cell_type": "code",
   "execution_count": null,
   "id": "80acae67-3a93-4598-a94a-2ae522c4a974",
   "metadata": {},
   "outputs": [],
   "source": []
  },
  {
   "cell_type": "code",
   "execution_count": null,
   "id": "d697e72c-9355-4db7-82e8-a58865da8be4",
   "metadata": {},
   "outputs": [],
   "source": []
  },
  {
   "cell_type": "code",
   "execution_count": null,
   "id": "e403dae5-324a-40fa-bc33-21f1881eb865",
   "metadata": {},
   "outputs": [],
   "source": []
  },
  {
   "cell_type": "code",
   "execution_count": null,
   "id": "9fff52a2-e28f-4ee1-b7fa-2cbb6f4a7ea3",
   "metadata": {},
   "outputs": [],
   "source": []
  }
 ],
 "metadata": {
  "kernelspec": {
   "display_name": "Python 3 (ipykernel)",
   "language": "python",
   "name": "python3"
  },
  "language_info": {
   "codemirror_mode": {
    "name": "ipython",
    "version": 3
   },
   "file_extension": ".py",
   "mimetype": "text/x-python",
   "name": "python",
   "nbconvert_exporter": "python",
   "pygments_lexer": "ipython3",
   "version": "3.11.2"
  }
 },
 "nbformat": 4,
 "nbformat_minor": 5
}
